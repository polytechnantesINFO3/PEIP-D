{
 "cells": [
  {
   "cell_type": "markdown",
   "metadata": {},
   "source": [
    "### La population des villes\n",
    "\n",
    "** Scénario : ** On considère un pays formé de 3 villes, et uniquement de ces 3 villes, pour simplifier. \n",
    "* Chaque ville est caractérisée par le nombre d'habitants de la ville.\n",
    "* Chaque année, certains habitants de chaque ville quittent leur ville pour aller habiter dans une des deux autres villes du pays. Etant données deux villes A et B quelconques parmi les 3 villes, on supposera que le nombre d'habitants quittant A pour aller à B est une petite proportion (un petit pourcentage) des habitants de A. Cette proportion dépend de A et de B mais pas des populations de A et de B. On suppose que cette proportion est connues pour tous les couples (villes de départ, ville de destination).\n",
    "* L'objectif général est d'étudier comment les populations des villes évoluent au cours du temps (sur plusieurs années)"
   ]
  },
  {
   "cell_type": "markdown",
   "metadata": {},
   "source": [
    "** A faire : **\n",
    "* _Choisir 3 noms de villes réelles qui vous plaisent (pour que le scénario soit réaliste), dont les noms commencent par des lettres différentes. On définit une variable mathématique par l'initiale de chaque nom de ville._\n",
    "* _A vous de choisir les proportions de population qui migrent d'une ville à l'autre, comme cela vous plaît mais en privilégiant des valeurs réalistes et simples._\n",
    "* _Faites un schéma sous forme de graphe orienté : un rond (\"noeud\" du graphe) indique une ville et des flèches (\"arc\") entre les ronds indiquent les migrations. Deux noeuds peuvent être reliés par des flèches de sens opposés_\n",
    "* _Ecrire les 3 équations décrivant la population des 3 villes à l'année t+1 en fonction de la population de ces villes à l'année t_\n",
    "* _Ecrire le système des 3 équations au moyen de vecteurs et de matrices_\n",
    "* _Interprétons la matrice :_\n",
    "    * _Que contient la diagonale de la matrice ?_\n",
    "    * _La matrice est-elle symétrique ?_\n",
    "    * _A quelle situation de migration correspondrait une matrice diagonale (avec 1 sur la diagonale et 0 ailleurs) ?_\n",
    "    * _A quelle situation de migration correspondrait une matrice symétrique ? Dans cette situation, les populations des villes seront-elles constantes d'année en année ?_\n",
    "* _Imaginons qu'on souhaite étendre l'étude à n villes plutôt que 3 (pour traiter n'importe quelle situation, par exemple n=100000). Ecrire à nouveau le système d'équations linéaires : il faudra peut-être remplacer vos notations par de nouvelles notations plus générales et utiliser des sommes $\\sum$ avec des indices._\n",
    "* _Ecrire un programme python réalisant le calcul de la population des 3 villes à l'année t+1 en fonction de la population de ces villes à l'année t. Pour cela, utiliser les tableaux `array` de la librairie `numpy`, qui permettent de stocker des vecteurs, des matrices, et la fonction `dot` de numpy qui permet le produit entre ces objets mathématiques. Il faut aussi fixer les populations initiales (à vous de donner des valeurs numériques). Compléter le programme pour faire ce calcul sur une séquence de 20 années consécutives._\n",
    "* _Comment calculer une matrice qui permet de calculer les populations à t+2 directement à partir des populations à t ? Calculer cette matrice en python_\n",
    "* _Compléter le programme pour tracer, sur le même graphique, les courbes montrant l'évolution de la population des 3 villes sur la période étudiée._\n",
    "* _Allonger la période de calcul et d'observation, si nécessaire, pour pressentir si les populations convergent (asymptotiquement) avec le temps._\n",
    "* _Modifier les populations initiales et relancer la simulation. Les populations semblent-elles converger vers les mêmes valeurs que précédemment ?_\n",
    "* _Quelles équations faut-il résoudre pour trouver les populations vers lesquelles converge le processus ?_\n"
   ]
  },
  {
   "cell_type": "markdown",
   "metadata": {},
   "source": [
    "** Notions ** :\n",
    "+ définition des variables d'un problème, mise en équations linéaires modélisant un processus\n",
    "+ manier des indices, des sommes générales ($\\sum$)\n",
    "+ matrice associée à une application linéaire\n",
    "+ produit vecteur.matrice et matrice.matrice\n",
    "+ utilisation du notebook python\n",
    "+ programmation en python des tableaux avec numpy\n",
    "+ définition et pratique d'un protocole expérimental empirique "
   ]
  },
  {
   "cell_type": "code",
   "execution_count": null,
   "metadata": {},
   "outputs": [],
   "source": []
  }
 ],
 "metadata": {
  "kernelspec": {
   "display_name": "Python [conda env:py36]",
   "language": "python",
   "name": "conda-env-py36-py"
  },
  "language_info": {
   "codemirror_mode": {
    "name": "ipython",
    "version": 3
   },
   "file_extension": ".py",
   "mimetype": "text/x-python",
   "name": "python",
   "nbconvert_exporter": "python",
   "pygments_lexer": "ipython3",
   "version": "3.6.4"
  }
 },
 "nbformat": 4,
 "nbformat_minor": 2
}
