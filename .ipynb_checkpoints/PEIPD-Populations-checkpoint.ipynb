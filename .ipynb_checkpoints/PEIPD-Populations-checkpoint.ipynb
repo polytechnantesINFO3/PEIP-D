{
 "cells": [
  {
   "cell_type": "markdown",
   "metadata": {},
   "source": [
    "### La population des villes\n",
    "\n",
    "** Scénario : ** On considère un pays formé de 3 villes, et uniquement de ces 3 villes, pour simplifier. \n",
    "* Chaque ville est caractérisée par le nombre d'habitants de la ville.\n",
    "* Chaque année, certains habitants de chaque ville quittent leur ville pour aller habiter dans une des deux autres villes du pays. Etant données deux villes A et B quelconques parmi les 3 villes, on supposera que le nombre d'habitants quittant A pour aller à B est une petite proportion (un petit pourcentage) des habitants de A. Cette proportion dépend de A et de B mais pas des populations de A et de B. On suppose que cette proportion est connues pour tous les couples (villes de départ, ville de destination).\n",
    "* L'objectif général est d'étudier comment les populations des villes évoluent au cours du temps (sur plusieurs années)"
   ]
  },
  {
   "cell_type": "markdown",
   "metadata": {},
   "source": [
    "** A faire : **\n",
    "* _Choisir 3 noms de villes réelles qui vous plaisent (pour que le scénario soit réaliste), dont les noms commencent par des lettres différentes. On définit une variable mathématique par l'initiale de chaque nom de ville._\n",
    "* _A vous de choisir les proportions de population qui migrent d'une ville à l'autre, comme cela vous plaît mais en privilégiant des valeurs réalistes et simples._\n",
    "* _Faites un schéma sous forme de graphe orienté : un rond (\"noeud\" du graphe) indique une ville et des flèches (\"arc\") entre les ronds indiquent les migrations. Deux noeuds peuvent être reliés par des flèches de sens opposés_\n",
    "* _Ecrire les 3 équations décrivant la population des 3 villes à l'année t+1 en fonction de la population de ces villes à l'année t_\n",
    "* _Ecrire le système des 3 équations au moyen de vecteurs et de matrices_\n",
    "* _Ecrire du code python réalisant le calcul de la population des 3 villes à l'année t+1 en fonction de la population de ces villes à l'année t. Pour cela, utiliser les tableaux `array` de la librairie `numpy`, qui permettent de stocker des vecteurs, des matrices, et la fonction `dot` de numpy qui permet le produit entre ces objets mathématiques._"
   ]
  },
  {
   "cell_type": "code",
   "execution_count": null,
   "metadata": {},
   "outputs": [],
   "source": []
  }
 ],
 "metadata": {
  "kernelspec": {
   "display_name": "Python [conda env:py36]",
   "language": "python",
   "name": "conda-env-py36-py"
  },
  "language_info": {
   "codemirror_mode": {
    "name": "ipython",
    "version": 3
   },
   "file_extension": ".py",
   "mimetype": "text/x-python",
   "name": "python",
   "nbconvert_exporter": "python",
   "pygments_lexer": "ipython3",
   "version": "3.6.4"
  }
 },
 "nbformat": 4,
 "nbformat_minor": 2
}
