{
 "cells": [
  {
   "cell_type": "markdown",
   "metadata": {},
   "source": [
    "# La population des villes"
   ]
  },
  {
   "cell_type": "markdown",
   "metadata": {},
   "source": [
    "Jeu: simuler la population des villes au cours des années"
   ]
  },
  {
   "cell_type": "markdown",
   "metadata": {},
   "source": [
    "Concepts :\n",
    "\n",
    "* définir des variables\n",
    "* faire des combinaisons linéaires de ces variables (fonction linéaire)\n",
    "* problème à poids connus, problème à poids à optimiser (plus tard)\n",
    "\n",
    "* vecteur de variables, matrice de poids\n",
    "* multiplication matricielle : la programmer à la main, utiliser la version déjà programmée\n",
    "* stabilisation du processus, dépendance à l'initialisation\n",
    "* tracer des courbes, définir un protocole expérimental\n",
    " (tirer des populations initiales au hasard : un peu de proba, un peu de stats sur la vitesse de convergence, un peu de dataviz)\n",
    "* notion empirique de convergence \n"
   ]
  },
  {
   "cell_type": "code",
   "execution_count": 24,
   "metadata": {},
   "outputs": [],
   "source": [
    "import numpy as np;\n",
    "population = np.array([200,100,250])\n",
    "migration = np.array([[0.8,0.1,0.1],[0.05,0.9,0.05],[0.05,0.15,0.8]])\n",
    "nombre_annees=25\n",
    "period=range(0,nombre_annees)\n",
    "historique = np.zeros(shape=(3,nombre_annees))\n"
   ]
  },
  {
   "cell_type": "code",
   "execution_count": 25,
   "metadata": {},
   "outputs": [
    {
     "name": "stdout",
     "output_type": "stream",
     "text": [
      "[[ 177.5         160.625       147.96875     138.4765625   131.35742188\n",
      "   126.01806641  122.0135498   119.01016235  116.75762177  115.06821632\n",
      "   113.80116224  112.85087168  112.13815376  111.60361532  111.20271149\n",
      "   110.90203362  110.67652521  110.50739391  110.38054543  110.28540907\n",
      "   110.21405681  110.1605426   110.12040695  110.09030521  110.06772891]\n",
      " [ 147.5         184.25        212.65625     234.59375     251.52148438\n",
      "   264.57324219  274.62902832  282.37109375  288.32781219  292.90797806\n",
      "   296.42757273  299.13062143  301.20542249  302.79715918  304.01768862\n",
      "   304.95313089  305.66974649  306.2184836   306.63849301  306.95984248\n",
      "   307.20561141  307.39350572  307.53710216  307.64680627  307.73058944]\n",
      " [ 225.          205.125       189.375       176.9296875   167.12109375\n",
      "   159.40869141  153.35742188  148.6187439   144.91456604  142.02380562\n",
      "   139.77126503  138.01850688  136.65642375  135.5992255   134.77959989\n",
      "   134.14483549  133.6537283   133.27412249  132.98096156  132.75474844\n",
      "   132.58033178  132.44595168  132.34249089  132.26288851  132.20168165]]\n"
     ]
    }
   ],
   "source": [
    "for annee in period:\n",
    "    population = np.dot(population,migration)\n",
    "    historique[:,annee]=population\n",
    "print(historique)"
   ]
  },
  {
   "cell_type": "code",
   "execution_count": 26,
   "metadata": {},
   "outputs": [
    {
     "name": "stdout",
     "output_type": "stream",
     "text": [
      "24\n"
     ]
    }
   ],
   "source": [
    "print(annee)"
   ]
  },
  {
   "cell_type": "code",
   "execution_count": 27,
   "metadata": {},
   "outputs": [
    {
     "data": {
      "image/png": "[encoded data removed]",
      "text/plain": [
       "<Figure size 432x288 with 1 Axes>"
      ]
     },
     "metadata": {},
     "output_type": "display_data"
    }
   ],
   "source": [
    "%matplotlib inline\n",
    "import matplotlib.pyplot as plt\n",
    "plt.plot(period, historique[0,:])\n",
    "plt.plot(period, historique[1,:])\n",
    "plt.plot(period, historique[2,:])\n",
    "plt.show()"
   ]
  },
  {
   "cell_type": "code",
   "execution_count": null,
   "metadata": {},
   "outputs": [],
   "source": [
    "Même chose, version géométrique"
   ]
  },
  {
   "cell_type": "markdown",
   "metadata": {},
   "source": [
    "# Pagerank"
   ]
  },
  {
   "cell_type": "code",
   "execution_count": null,
   "metadata": {},
   "outputs": [],
   "source": [
    "calculer des attributs à la main pour reconnaître des chiffres"
   ]
  },
  {
   "cell_type": "code",
   "execution_count": null,
   "metadata": {},
   "outputs": [],
   "source": [
    "faire une combinaison linéaire d'attributs\n"
   ]
  },
  {
   "cell_type": "code",
   "execution_count": null,
   "metadata": {},
   "outputs": [],
   "source": [
    "Séance statistiques simples (moyenne, variance)"
   ]
  },
  {
   "cell_type": "markdown",
   "metadata": {},
   "source": [
    "# Voyageur de commerce"
   ]
  },
  {
   "cell_type": "code",
   "execution_count": null,
   "metadata": {},
   "outputs": [],
   "source": [
    "avoir une stratégie d'optimisation, comparer plusieurs stratégies.\n",
    "Thème : optimisation sur graphe. Optimisation, complexité."
   ]
  },
  {
   "cell_type": "code",
   "execution_count": 1,
   "metadata": {},
   "outputs": [
    {
     "name": "stderr",
     "output_type": "stream",
     "text": [
      "/Users/marc2/anaconda/lib/python2.7/site-packages/matplotlib/font_manager.py:273: UserWarning: Matplotlib is building the font cache using fc-list. This may take a moment.\n",
      "  warnings.warn('Matplotlib is building the font cache using fc-list. This may take a moment.')\n"
     ]
    }
   ],
   "source": [
    "# libraries\n",
    "# Attention c'est du python 2\n",
    "import pandas as pd\n",
    "import numpy as np\n",
    "import networkx as nx\n",
    "import matplotlib.pyplot as plt\n",
    " \n",
    "# Build a dataframe with your connections\n",
    "df = pd.DataFrame({ 'from':['A', 'B', 'C','A'], 'to':['D', 'A', 'E','C']})\n",
    "df\n",
    " \n",
    "# Build your graph\n",
    "G=nx.from_pandas_dataframe(df, 'from', 'to')\n",
    " \n",
    "# Graph with Custom nodes:\n",
    "nx.draw(G, with_labels=True, node_size=1500, node_color=\"skyblue\", node_shape=\"s\", alpha=0.5, linewidths=40)\n",
    "plt.show()\n"
   ]
  },
  {
   "cell_type": "code",
   "execution_count": null,
   "metadata": {},
   "outputs": [],
   "source": []
  }
 ],
 "metadata": {
  "kernelspec": {
   "display_name": "Python [conda env:py36]",
   "language": "python",
   "name": "conda-env-py36-py"
  },
  "language_info": {
   "codemirror_mode": {
    "name": "ipython",
    "version": 3
   },
   "file_extension": ".py",
   "mimetype": "text/x-python",
   "name": "python",
   "nbconvert_exporter": "python",
   "pygments_lexer": "ipython3",
   "version": "3.6.4"
  }
 },
 "nbformat": 4,
 "nbformat_minor": 2
}
